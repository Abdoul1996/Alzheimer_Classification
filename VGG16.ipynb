{
  "cells": [
    {
      "cell_type": "code",
      "execution_count": null,
      "metadata": {
        "id": "UeouwbWElKK_"
      },
      "outputs": [],
      "source": [
        "import numpy as np\n",
        "import cv2\n",
        "import matplotlib.pyplot as plt\n",
        "from sklearn.model_selection import train_test_split\n",
        "from skimage.color import gray2rgb\n",
        "from sklearn.utils import shuffle\n",
        "import warnings\n",
        "import torch\n",
        "from torchvision import models, transforms\n",
        "from torch import nn\n",
        "from torch.utils.data import DataLoader, TensorDataset\n",
        "from sklearn.metrics import confusion_matrix, ConfusionMatrixDisplay, classification_report\n",
        "\n",
        "warnings.filterwarnings('ignore')"
      ]
    },
    {
      "cell_type": "code",
      "execution_count": null,
      "metadata": {
        "id": "2mMnSyNq4_tf"
      },
      "outputs": [],
      "source": [
        "# Let's load the train, validation and test arrays\n",
        "X_train = np.load('/content/drive/MyDrive/Numpy_ADNI/AmyPET_train_images.npy', allow_pickle=True)\n",
        "X_val = np.load('/content/drive/MyDrive/Numpy_ADNI/AmyPET_val_images.npy', allow_pickle=True)\n",
        "X_test = np.load('/content/drive/MyDrive/Numpy_ADNI/AmyPET_test_images.npy', allow_pickle=True)\n",
        "Y_train = np.load('/content/drive/MyDrive/Numpy_ADNI/AmyPET_train_label.npy', allow_pickle=True)\n",
        "Y_val = np.load('/content/drive/MyDrive/Numpy_ADNI/AmyPET_val_label.npy', allow_pickle=True)\n",
        "Y_test = np.load('/content/drive/MyDrive/Numpy_ADNI/AmyPET_test_label.npy', allow_pickle=True)"
      ]
    },
    {
      "cell_type": "code",
      "execution_count": null,
      "metadata": {
        "id": "QP8ASW4w5M8c"
      },
      "outputs": [],
      "source": [
        "# Converting grayscale images to RGB\n",
        "X_train = np.array([gray2rgb(X_train[i]) for i in range(len(X_train))])\n",
        "X_val = np.array([gray2rgb(X_val[i]) for i in range(len(X_val))])\n",
        "X_test = np.array([gray2rgb(X_test[i]) for i in range(len(X_test))])"
      ]
    },
    {
      "cell_type": "code",
      "execution_count": null,
      "metadata": {
        "id": "_ADmvZW35bVr"
      },
      "outputs": [],
      "source": [
        "X_train, Y_train = shuffle(X_train, Y_train, random_state = 0)\n",
        "X_val, Y_val = shuffle(X_val, Y_val, random_state = 0)\n",
        "X_test, Y_test = shuffle(X_test, Y_test, random_state = 0)"
      ]
    },
    {
      "cell_type": "code",
      "execution_count": null,
      "metadata": {
        "colab": {
          "base_uri": "https://localhost:8080/"
        },
        "id": "9gVo_XW15h7r",
        "outputId": "8b69211b-41fb-4dfa-ef75-f84155ed1f55"
      },
      "outputs": [
        {
          "output_type": "stream",
          "name": "stdout",
          "text": [
            "There are 1200 images in training set\n",
            "There are 215 images in validation set\n",
            "There are 250 images in test set\n"
          ]
        }
      ],
      "source": [
        "# Let's confirm the size of the training and validation arrays\n",
        "print(f'There are {len(X_train)} images in training set')\n",
        "print(f'There are {len(X_val)} images in validation set')\n",
        "print(f'There are {len(X_test)} images in test set')"
      ]
    },
    {
      "cell_type": "code",
      "execution_count": null,
      "metadata": {
        "id": "BOUCtXMm6mll"
      },
      "outputs": [],
      "source": [
        "# Convert data to PyTorch tensors\n",
        "X_train_tensor = torch.tensor(X_train).permute(0, 3, 1, 2).float()\n",
        "Y_train_tensor = torch.tensor(Y_train).long()\n",
        "X_val_tensor = torch.tensor(X_val).permute(0, 3, 1, 2).float()\n",
        "Y_val_tensor = torch.tensor(Y_val).long()\n",
        "X_test_tensor = torch.tensor(X_test).permute(0, 3, 1, 2).float()\n",
        "Y_test_tensor = torch.tensor(Y_test).long()"
      ]
    },
    {
      "cell_type": "code",
      "source": [
        "from math import degrees\n",
        "# Define a method for data augmentation, to have more data for class 'AD' and balance the dataset\n",
        "data_augmentation = nn.Sequential(\n",
        "    transforms.RandomHorizontalFlip(p=0.5),\n",
        "    transforms.RandomRotation(degrees=10)\n",
        ")\n",
        "def augment(dataset):\n",
        "  augmented = []\n",
        "  for tensor in dataset:\n",
        "    augmented.append(data_augmentation(tensor))\n",
        "  return torch.stack(augmented)"
      ],
      "metadata": {
        "id": "haY1WuusFZPF"
      },
      "execution_count": null,
      "outputs": []
    },
    {
      "cell_type": "code",
      "source": [
        "# Build Model function\n",
        "def build_model():\n",
        "    # use pretrained model VGG16 as a starter\n",
        "    base_model = models.vgg16(pretrained=True)\n",
        "    # freeze all the layers except the classfier for feature extraction\n",
        "    for param in base_model.features.parameters():\n",
        "        param.requires_grad = False\n",
        "    # Replace the classifier head with a dense layer for 3 classes and dropout\n",
        "    base_model.classifier = nn.Sequential(\n",
        "      nn.Linear(25088, 256),\n",
        "      nn.ReLU(),\n",
        "      nn.Dropout(p=0.5),\n",
        "      nn.Linear(256, 3)\n",
        "    )\n",
        "    return base_model"
      ],
      "metadata": {
        "id": "CVZI4jbLPfs3"
      },
      "execution_count": null,
      "outputs": []
    },
    {
      "cell_type": "code",
      "source": [
        "# Training Function\n",
        "def train_model(model, X_train_tensor, Y_train_tensor, X_val_tensor, Y_val_tensor,\n",
        "                batch_size, optimizer_fn):\n",
        "    # Load data in batches\n",
        "    train_loader = DataLoader(TensorDataset(X_train_tensor, Y_train_tensor), batch_size=batch_size, shuffle=True)\n",
        "    val_loader = DataLoader(TensorDataset(X_val_tensor, Y_val_tensor), batch_size=batch_size)\n",
        "\n",
        "    lossFunc = nn.CrossEntropyLoss() # define loss function\n",
        "    optimizer = optimizer_fn(model.parameters(), lr=0.0001, weight_decay=1e-4) # setup the optimizer\n",
        "    train_loss, val_loss = [], []\n",
        "    train_acc, val_acc = [], []\n",
        "\n",
        "    early_stopping_patience = 5\n",
        "    best_val_loss = float('inf')\n",
        "    patience_counter = 0\n",
        "\n",
        "    correct = 0\n",
        "    total = 0\n",
        "\n",
        "    for epoch in range(5):\n",
        "        model.train()\n",
        "        epoch_loss = 0\n",
        "        for X_batch, y_batch in train_loader:\n",
        "            optimizer.zero_grad()\n",
        "            outputs = model(X_batch)\n",
        "            loss = lossFunc(outputs, y_batch)\n",
        "            loss.backward()\n",
        "            optimizer.step()\n",
        "            epoch_loss += loss.item()\n",
        "            _, predicted = torch.max(outputs, 1)\n",
        "            correct += (predicted == y_batch).sum().item()\n",
        "            total += y_batch.size(0)\n",
        "        train_loss.append(epoch_loss / len(train_loader))\n",
        "        train_acc.append(correct / total)\n",
        "\n",
        "        # Validation\n",
        "        model.eval()\n",
        "        val_epoch_loss = 0\n",
        "        correct = 0\n",
        "        total = 0\n",
        "        with torch.no_grad():\n",
        "            for X_batch, y_batch in val_loader:\n",
        "                outputs = model(X_batch)\n",
        "                loss = lossFunc(outputs, y_batch)\n",
        "                val_epoch_loss += loss.item()\n",
        "\n",
        "                # Calculate validation accuracy\n",
        "                _, predicted = torch.max(outputs, 1)\n",
        "                correct += (predicted == y_batch).sum().item()\n",
        "                total += y_batch.size(0)\n",
        "        val_loss.append(val_epoch_loss / len(val_loader))\n",
        "        val_acc.append(correct / total)\n",
        "\n",
        "        print(f\"Epoch {epoch+1}/5, Train Loss: {train_loss[-1]:.4f}, \"\n",
        "              f\"Val Loss: {val_loss[-1]:.4f}, Train Acc: {train_acc[-1]:.4f}, \"\n",
        "              f\"Val Acc: {val_acc[-1]:.4f}\")\n",
        "\n",
        "        # Stop early if no more learning\n",
        "        if val_loss[-1] < best_val_loss:\n",
        "            best_val_loss = val_loss[-1]\n",
        "            patience_counter = 0\n",
        "        else:\n",
        "            patience_counter += 1\n",
        "            if patience_counter >= early_stopping_patience:\n",
        "                print(\"Early stopping triggered.\")\n",
        "                break\n",
        "    return train_loss, val_loss, train_acc, val_acc\n"
      ],
      "metadata": {
        "id": "D1qyTqO3W7Fo"
      },
      "execution_count": null,
      "outputs": []
    },
    {
      "cell_type": "code",
      "source": [
        "def hyperparameter_search(X_train_tensor, Y_train_tensor, X_val_tensor, Y_val_tensor):\n",
        "\n",
        "    optimizers = [torch.optim.SGD, torch.optim.Adam]\n",
        "    batch_sizes = [32, 64]\n",
        "    best_params = None\n",
        "    best_val_loss = float('inf')\n",
        "\n",
        "    for opt in optimizers:\n",
        "      for bs in batch_sizes:\n",
        "          print(f\"Testing: LR=0.0001, Optimizer={opt.__name__}, BS={bs}, Epochs=5, Dropout=0.5\")\n",
        "          model = build_model()\n",
        "          train_loss, val_loss, train_acc, val_acc = train_model(model, X_train_tensor, Y_train_tensor,\n",
        "                                             X_val_tensor, Y_val_tensor,\n",
        "                                             batch_size=bs, optimizer_fn=opt)\n",
        "          if val_loss[-1] < best_val_loss:\n",
        "            best_val_loss = val_loss[-1]\n",
        "            best_params = (opt, bs)\n",
        "    print(f\"Best Parameters: {best_params}\")\n",
        "    return best_params\n"
      ],
      "metadata": {
        "id": "UbLdcHKYzK4C"
      },
      "execution_count": null,
      "outputs": []
    },
    {
      "cell_type": "code",
      "source": [
        "from sklearn.metrics import confusion_matrix, ConfusionMatrixDisplay, classification_report\n",
        "\n",
        "def evaluate_model(model, test_loader):\n",
        "    model.eval()\n",
        "    all_preds = []\n",
        "    all_labels = []\n",
        "    with torch.no_grad():\n",
        "        for X_batch, y_batch in test_loader:\n",
        "            outputs = model(X_batch)  # Forward pass\n",
        "            _, preds = torch.max(outputs, 1)  # Get predicted classes\n",
        "            all_preds.extend(preds.cpu().numpy())  # Store predictions\n",
        "            all_labels.extend(y_batch.cpu().numpy())  # Store true labels\n",
        "\n",
        "    # Convert to NumPy arrays\n",
        "    all_preds = np.array(all_preds)\n",
        "    all_labels = np.array(all_labels)\n",
        "\n",
        "    # Compute accuracy\n",
        "    accuracy = (all_preds == all_labels).mean() * 100\n",
        "    print(f\"Accuracy: {accuracy:.2f}%\")\n",
        "\n",
        "    # Compute and display confusion matrix\n",
        "    cm = confusion_matrix(all_labels, all_preds)\n",
        "    disp = ConfusionMatrixDisplay(confusion_matrix=cm)\n",
        "    disp.plot(cmap=plt.cm.Blues)\n",
        "    plt.title(\"Confusion Matrix\")\n",
        "    plt.show()\n",
        "\n",
        "    # Display classification report\n",
        "    report = classification_report(all_labels, all_preds, target_names=['Class 0', 'Class 1', 'Class 2'])\n",
        "    print(\"Classification Report:\")\n",
        "    print(report)\n",
        "\n"
      ],
      "metadata": {
        "id": "2G0SCJAd0C3F"
      },
      "execution_count": null,
      "outputs": []
    },
    {
      "cell_type": "code",
      "source": [
        "# Augment the training data for the 'AD' class (label 2)\n",
        "ad_indices = torch.where(Y_train_tensor == 2)[0]  # Get indices of the 'AD' class\n",
        "ad_data = X_train_tensor[ad_indices]  # Filter 'AD' data\n",
        "ad_labels = Y_train_tensor[ad_indices]  # Corresponding labels\n",
        "\n",
        "print(f\"Original 'AD' data size: {len(ad_data)}\")\n",
        "print(f\"Original 'EMCI' data size: {len(X_train_tensor[torch.where(Y_train_tensor == 1)[0]])}\")\n",
        "print(f\"Original 'CN' data size: {len(X_train_tensor[torch.where(Y_train_tensor == 0)[0]])}\")\n",
        "\n",
        "# Apply data augmentation directly\n",
        "augmented_data = augment(ad_data)\n",
        "print(f\"Augmented 'AD' data size: {len(augmented_data)}\")\n",
        "\n",
        "# Concatenate the augmented 'AD' data with the original dataset\n",
        "X_train_tensor = torch.cat((X_train_tensor, augmented_data), dim=0)\n",
        "Y_train_tensor = torch.cat((Y_train_tensor, torch.full((len(augmented_data),), 2, dtype=torch.long)), dim=0)\n",
        "\n",
        "print(f\"Training data size after augmentation: {len(X_train_tensor)}\")"
      ],
      "metadata": {
        "colab": {
          "base_uri": "https://localhost:8080/"
        },
        "id": "Z1JmDLKz2hds",
        "outputId": "d02e8593-3f60-464f-ea5e-0d07cd00186c"
      },
      "execution_count": null,
      "outputs": [
        {
          "output_type": "stream",
          "name": "stdout",
          "text": [
            "Original 'AD' data size: 235\n",
            "Original 'EMCI' data size: 505\n",
            "Original 'CN' data size: 460\n",
            "Augmented 'AD' data size: 235\n",
            "Training data size after augmentation: 1435\n"
          ]
        }
      ]
    },
    {
      "cell_type": "code",
      "source": [
        "ad_indices = torch.where(Y_train_tensor == 2)[0]  # Get indices of the 'AD' class\n",
        "ad_data = X_train_tensor[ad_indices]\n",
        "print(f\"Current 'AD' data size: {len(ad_data)}\")"
      ],
      "metadata": {
        "id": "dcsr5RfiH6no",
        "colab": {
          "base_uri": "https://localhost:8080/"
        },
        "outputId": "cd100883-ecb9-48d8-e1d2-5037be69677a"
      },
      "execution_count": null,
      "outputs": [
        {
          "output_type": "stream",
          "name": "stdout",
          "text": [
            "Current 'AD' data size: 470\n"
          ]
        }
      ]
    },
    {
      "cell_type": "code",
      "source": [
        "# Build model\n",
        "model = build_model()\n",
        "print(model)"
      ],
      "metadata": {
        "id": "5J67CdFaAZIk",
        "colab": {
          "base_uri": "https://localhost:8080/"
        },
        "outputId": "071e841a-c782-41f5-9ce6-118d12cd616c"
      },
      "execution_count": null,
      "outputs": [
        {
          "output_type": "stream",
          "name": "stdout",
          "text": [
            "VGG(\n",
            "  (features): Sequential(\n",
            "    (0): Conv2d(3, 64, kernel_size=(3, 3), stride=(1, 1), padding=(1, 1))\n",
            "    (1): ReLU(inplace=True)\n",
            "    (2): Conv2d(64, 64, kernel_size=(3, 3), stride=(1, 1), padding=(1, 1))\n",
            "    (3): ReLU(inplace=True)\n",
            "    (4): MaxPool2d(kernel_size=2, stride=2, padding=0, dilation=1, ceil_mode=False)\n",
            "    (5): Conv2d(64, 128, kernel_size=(3, 3), stride=(1, 1), padding=(1, 1))\n",
            "    (6): ReLU(inplace=True)\n",
            "    (7): Conv2d(128, 128, kernel_size=(3, 3), stride=(1, 1), padding=(1, 1))\n",
            "    (8): ReLU(inplace=True)\n",
            "    (9): MaxPool2d(kernel_size=2, stride=2, padding=0, dilation=1, ceil_mode=False)\n",
            "    (10): Conv2d(128, 256, kernel_size=(3, 3), stride=(1, 1), padding=(1, 1))\n",
            "    (11): ReLU(inplace=True)\n",
            "    (12): Conv2d(256, 256, kernel_size=(3, 3), stride=(1, 1), padding=(1, 1))\n",
            "    (13): ReLU(inplace=True)\n",
            "    (14): Conv2d(256, 256, kernel_size=(3, 3), stride=(1, 1), padding=(1, 1))\n",
            "    (15): ReLU(inplace=True)\n",
            "    (16): MaxPool2d(kernel_size=2, stride=2, padding=0, dilation=1, ceil_mode=False)\n",
            "    (17): Conv2d(256, 512, kernel_size=(3, 3), stride=(1, 1), padding=(1, 1))\n",
            "    (18): ReLU(inplace=True)\n",
            "    (19): Conv2d(512, 512, kernel_size=(3, 3), stride=(1, 1), padding=(1, 1))\n",
            "    (20): ReLU(inplace=True)\n",
            "    (21): Conv2d(512, 512, kernel_size=(3, 3), stride=(1, 1), padding=(1, 1))\n",
            "    (22): ReLU(inplace=True)\n",
            "    (23): MaxPool2d(kernel_size=2, stride=2, padding=0, dilation=1, ceil_mode=False)\n",
            "    (24): Conv2d(512, 512, kernel_size=(3, 3), stride=(1, 1), padding=(1, 1))\n",
            "    (25): ReLU(inplace=True)\n",
            "    (26): Conv2d(512, 512, kernel_size=(3, 3), stride=(1, 1), padding=(1, 1))\n",
            "    (27): ReLU(inplace=True)\n",
            "    (28): Conv2d(512, 512, kernel_size=(3, 3), stride=(1, 1), padding=(1, 1))\n",
            "    (29): ReLU(inplace=True)\n",
            "    (30): MaxPool2d(kernel_size=2, stride=2, padding=0, dilation=1, ceil_mode=False)\n",
            "  )\n",
            "  (avgpool): AdaptiveAvgPool2d(output_size=(7, 7))\n",
            "  (classifier): Sequential(\n",
            "    (0): Linear(in_features=25088, out_features=256, bias=True)\n",
            "    (1): ReLU()\n",
            "    (2): Dropout(p=0.5, inplace=False)\n",
            "    (3): Linear(in_features=256, out_features=3, bias=True)\n",
            "  )\n",
            ")\n"
          ]
        }
      ]
    },
    {
      "cell_type": "code",
      "source": [
        "# Perform hyperparameter search\n",
        "best_params = hyperparameter_search(X_train_tensor, Y_train_tensor, X_val_tensor, Y_val_tensor)\n",
        "best_optimizer, best_bs = best_params\n",
        "\n",
        "\n",
        "print(f\"Training the model with the best parameters: {best_params}\")"
      ],
      "metadata": {
        "colab": {
          "base_uri": "https://localhost:8080/"
        },
        "id": "1LccNEuO6b5b",
        "outputId": "1f2af895-3c3b-4051-e857-edde2fc73993"
      },
      "execution_count": null,
      "outputs": [
        {
          "output_type": "stream",
          "name": "stdout",
          "text": [
            "Testing: LR=0.00001, Optimizer=SGD, BS=32, Epochs=14, Dropout=0.5\n"
          ]
        }
      ]
    },
    {
      "cell_type": "code",
      "source": [
        "# Re-train the model with the best hyperparameters\n",
        "best_bs = 32\n",
        "best_optimizer = torch.optim.Adam\n",
        "train_loss, val_loss, train_acc, val_acc = train_model(\n",
        "    model,\n",
        "    X_train_tensor,\n",
        "    Y_train_tensor,\n",
        "    X_val_tensor,\n",
        "    Y_val_tensor,\n",
        "    batch_size=best_bs,\n",
        "    optimizer_fn=best_optimizer\n",
        ")"
      ],
      "metadata": {
        "id": "3LvmxcSWMNMl",
        "colab": {
          "base_uri": "https://localhost:8080/"
        },
        "outputId": "24e37e67-9c68-497e-e3f3-ed564576adaf"
      },
      "execution_count": null,
      "outputs": [
        {
          "output_type": "stream",
          "name": "stdout",
          "text": [
            "Epoch 1/5, Train Loss: 0.7425, Val Loss: 0.6167, Train Acc: 0.6599, Val Acc: 0.7814\n",
            "Epoch 2/5, Train Loss: 0.3851, Val Loss: 0.3618, Train Acc: 0.8624, Val Acc: 0.8651\n",
            "Epoch 3/5, Train Loss: 0.2693, Val Loss: 0.2812, Train Acc: 0.9109, Val Acc: 0.9116\n",
            "Epoch 4/5, Train Loss: 0.1815, Val Loss: 0.2357, Train Acc: 0.9533, Val Acc: 0.9349\n",
            "Epoch 5/5, Train Loss: 0.1405, Val Loss: 0.1482, Train Acc: 0.9697, Val Acc: 0.9674\n"
          ]
        }
      ]
    },
    {
      "cell_type": "code",
      "source": [
        "# Plot training and validation loss\n",
        "plt.plot(train_loss, label='Training Loss')\n",
        "plt.plot(val_loss, label='Validation Loss')\n",
        "plt.xlabel('Epochs')\n",
        "plt.ylabel('Loss')\n",
        "plt.title('Training and Validation Loss')\n",
        "plt.legend()\n",
        "plt.show()"
      ],
      "metadata": {
        "id": "WDAgkv5Y7KX4",
        "colab": {
          "base_uri": "https://localhost:8080/",
          "height": 472
        },
        "outputId": "43efe425-7932-498a-9851-a3b0accc1131"
      },
      "execution_count": null,
      "outputs": [
        {
          "output_type": "display_data",
          "data": {
            "text/plain": [
              "<Figure size 640x480 with 1 Axes>"
            ],
            "image/png": "[encoded data removed]"
          },
          "metadata": {}
        }
      ]
    },
    {
      "cell_type": "code",
      "source": [
        "# Evaluate Model\n",
        "test_loader = DataLoader(TensorDataset(X_test_tensor, Y_test_tensor), batch_size=best_bs, shuffle=False)\n",
        "evaluate_model(model, test_loader)"
      ],
      "metadata": {
        "id": "qdjhT-ZK7DqD",
        "colab": {
          "base_uri": "https://localhost:8080/",
          "height": 686
        },
        "outputId": "def8343b-35a8-45bc-aa1a-ce636d51f442"
      },
      "execution_count": null,
      "outputs": [
        {
          "output_type": "stream",
          "name": "stdout",
          "text": [
            "Accuracy: 98.40%\n"
          ]
        },
        {
          "output_type": "display_data",
          "data": {
            "text/plain": [
              "<Figure size 640x480 with 2 Axes>"
            ],
            "image/png": "[encoded data removed]"
          },
          "metadata": {}
        },
        {
          "output_type": "stream",
          "name": "stdout",
          "text": [
            "Classification Report:\n",
            "              precision    recall  f1-score   support\n",
            "\n",
            "     Class 0       0.98      0.98      0.98       125\n",
            "     Class 1       0.97      0.97      0.97        60\n",
            "     Class 2       1.00      1.00      1.00        65\n",
            "\n",
            "    accuracy                           0.98       250\n",
            "   macro avg       0.98      0.98      0.98       250\n",
            "weighted avg       0.98      0.98      0.98       250\n",
            "\n"
          ]
        }
      ]
    }
  ],
  "metadata": {
    "accelerator": "GPU",
    "colab": {
      "gpuType": "A100",
      "provenance": []
    },
    "kernelspec": {
      "display_name": "Python 3",
      "name": "python3"
    },
    "language_info": {
      "name": "python"
    }
  },
  "nbformat": 4,
  "nbformat_minor": 0
}