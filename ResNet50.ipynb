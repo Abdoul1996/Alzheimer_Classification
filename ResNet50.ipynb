{
  "cells": [
    {
      "cell_type": "code",
      "execution_count": null,
      "metadata": {
        "colab": {
          "base_uri": "https://localhost:8080/"
        },
        "id": "h090J2N0x5vZ",
        "outputId": "ec328f22-6728-4080-f130-a5cf87c199c1"
      },
      "outputs": [
        {
          "name": "stdout",
          "output_type": "stream",
          "text": [
            "2.17.1\n"
          ]
        }
      ],
      "source": [
        "import numpy as np\n",
        "import matplotlib.pyplot as plt\n",
        "from collections import Counter\n",
        "from sklearn.utils import shuffle\n",
        "from sklearn.model_selection import train_test_split\n",
        "\n",
        "import torch\n",
        "import torch.nn as nn\n",
        "from torch.utils.data import DataLoader, Dataset, TensorDataset\n",
        "import torchvision\n",
        "from torchvision import transforms, models\n",
        "import torch.optim as optim\n",
        "from torch.optim.lr_scheduler import ReduceLROnPlateau"
      ]
    },
    {
      "cell_type": "code",
      "execution_count": null,
      "metadata": {
        "id": "g8Nj_OB7ddDN"
      },
      "outputs": [],
      "source": [
        "# Let's load train, validation, test arrays\n",
        "X_train = np.load('/content/drive/MyDrive/Numpy2_ADNi/AmyPET_train_images.npy')\n",
        "Y_train = np.load('/content/drive/MyDrive/Numpy2_ADNi/AmyPET_train_label.npy')\n",
        "X_val = np.load('/content/drive/MyDrive/Numpy2_ADNi/AmyPET_val_images.npy')\n",
        "Y_val = np.load('/content/drive/MyDrive/Numpy2_ADNi/AmyPET_val_label.npy')\n",
        "X_test = np.load('/content/drive/MyDrive/Numpy2_ADNi/AmyPET_test_images.npy')\n",
        "Y_test = np.load('/content/drive/MyDrive/Numpy2_ADNi/AmyPET_test_label.npy')"
      ]
    },
    {
      "cell_type": "code",
      "execution_count": null,
      "metadata": {
        "colab": {
          "base_uri": "https://localhost:8080/"
        },
        "id": "9pGqlgZscEq3",
        "outputId": "655e047b-afee-4179-e87d-0a2c387a78e5"
      },
      "outputs": [
        {
          "name": "stdout",
          "output_type": "stream",
          "text": [
            "X_train length: 1200\n",
            "X_train shape: (1200, 160, 160)\n",
            "Y_train length: 1200\n",
            "Y_train shape: (1200,)\n",
            "X_val length: 215\n",
            "X_val shape: (215, 160, 160)\n",
            "Y_val length: 215\n",
            "Y_val shape: (215,)\n",
            "X_test length: 250\n",
            "X_test shape: (250, 160, 160)\n",
            "Y_test length: 250\n",
            "Y_test shape: (250,)\n"
          ]
        }
      ],
      "source": [
        "print(\"X_train length:\", len(X_train))\n",
        "print(\"X_train shape:\", X_train.shape)\n",
        "print(\"Y_train length:\", len(Y_train))\n",
        "print(\"Y_train shape:\", Y_train.shape)\n",
        "\n",
        "print(\"X_val length:\", len(X_val))\n",
        "print(\"X_val shape:\", X_val.shape)\n",
        "print(\"Y_val length:\", len(Y_val))\n",
        "print(\"Y_val shape:\", Y_val.shape)\n",
        "\n",
        "print(\"X_test length:\", len(X_test))\n",
        "print(\"X_test shape:\", X_test.shape)\n",
        "print(\"Y_test length:\", len(Y_test))\n",
        "print(\"Y_test shape:\", Y_test.shape)"
      ]
    },
    {
      "cell_type": "code",
      "execution_count": null,
      "metadata": {
        "id": "hON0ngJ_d1r_"
      },
      "outputs": [],
      "source": [
        "# Converting grayscale images to RGB\n",
        "X_train = np.array([gray2rgb(X_train[i]) for i in range(len(X_train))])\n",
        "X_val = np.array([gray2rgb(X_val[i]) for i in range(len(X_val))])\n",
        "X_test = np.array([gray2rgb(X_test[i]) for i in range(len(X_test))])"
      ]
    },
    {
      "cell_type": "code",
      "execution_count": null,
      "metadata": {
        "colab": {
          "base_uri": "https://localhost:8080/"
        },
        "id": "v4ggj46wleTl",
        "outputId": "5432512f-3f59-430f-ddcc-bab016264f66"
      },
      "outputs": [
        {
          "name": "stdout",
          "output_type": "stream",
          "text": [
            "There are 1200 images in training set\n",
            "There are 215 images in validation set\n",
            "There are 250 images in test set\n"
          ]
        }
      ],
      "source": [
        "# Let's confirm the size of the training and validation arrays\n",
        "print(f'There are {len(X_train)} images in training set')\n",
        "print(f'There are {len(X_val)} images in validation set')\n",
        "print(f'There are {len(X_test)} images in test set')"
      ]
    },
    {
      "cell_type": "code",
      "execution_count": null,
      "metadata": {
        "colab": {
          "base_uri": "https://localhost:8080/"
        },
        "id": "gBOJUmFLddlP",
        "outputId": "ecfa3973-89ea-4574-c089-437d43f79ec4"
      },
      "outputs": [
        {
          "name": "stdout",
          "output_type": "stream",
          "text": [
            "Class Distribution in Y_train:\n",
            "Class 1: 505 samples (42.08%)\n",
            "Class 0: 460 samples (38.33%)\n",
            "Class 2: 235 samples (19.58%)\n",
            "\n",
            "WARNING: Class imbalance detected in Y_train\n"
          ]
        }
      ],
      "source": [
        "# Count the occurrences of each class label in Y_train\n",
        "class_counts = Counter(Y_train)\n",
        "\n",
        "# Print the class distribution\n",
        "print(\"Class Distribution in Y_train:\")\n",
        "for class_label, count in class_counts.items():\n",
        "    print(f\"Class {class_label}: {count} samples ({count / len(Y_train) * 100:.2f}%)\")\n",
        "\n",
        "# Check for class imbalance (you can define a threshold for imbalance)\n",
        "imbalance_threshold = 0.2  # Example: 20% difference between the largest and smallest class\n",
        "if max(class_counts.values()) / min(class_counts.values()) > (1 + imbalance_threshold):\n",
        "  print(\"\\nWARNING: Class imbalance detected in Y_train\")\n",
        "else:\n",
        "  print(\"\\nClass distribution appears relatively balanced.\")"
      ]
    },
    {
      "cell_type": "code",
      "execution_count": null,
      "metadata": {
        "id": "qhaIXHZZn-gB"
      },
      "outputs": [],
      "source": [
        "# Convert NumPy arrays to PyTorch tensors with channel-first format\n",
        "X_train_tensor = torch.tensor(X_train.transpose(0, 3, 1, 2), dtype=torch.float32)  # (N, C, H, W)\n",
        "Y_train_tensor = torch.tensor(Y_train, dtype=torch.long)\n",
        "\n",
        "X_val_tensor = torch.tensor(X_val.transpose(0, 3, 1, 2), dtype=torch.float32)  # (N, C, H, W)\n",
        "Y_val_tensor = torch.tensor(Y_val, dtype=torch.long)\n",
        "\n",
        "X_test_tensor = torch.tensor(X_test.transpose(0, 3, 1, 2), dtype=torch.float32)  # (N, C, H, W)\n",
        "Y_test_tensor = torch.tensor(Y_test, dtype=torch.long)\n"
      ]
    },
    {
      "cell_type": "code",
      "execution_count": null,
      "metadata": {
        "colab": {
          "base_uri": "https://localhost:8080/"
        },
        "id": "gH6e6homux50",
        "outputId": "a23be234-b37d-4aec-aa4e-35481012f34c"
      },
      "outputs": [
        {
          "data": {
            "text/plain": [
              "torch.Size([1200, 3, 160, 160])"
            ]
          },
          "execution_count": 143,
          "metadata": {},
          "output_type": "execute_result"
        }
      ],
      "source": [
        "X_train_tensor.shape"
      ]
    },
    {
      "cell_type": "markdown",
      "metadata": {
        "id": "1O8cpb-t4RLp"
      },
      "source": [
        "### Data Augmentation"
      ]
    },
    {
      "cell_type": "code",
      "execution_count": null,
      "metadata": {
        "id": "7abzHKpE4Wnu"
      },
      "outputs": [],
      "source": [
        "# Modified transforms with custom normalization\n",
        "data_augmentation_resNet50 = transforms.Compose([\n",
        "    transforms.RandomHorizontalFlip(p=0.5),\n",
        "    transforms.RandomRotation(10),\n",
        "    transforms.RandomAffine(degrees=0, translate=(0.05, 0.05)),\n",
        "    transforms.Resize((299, 299)),\n",
        "    transforms.Normalize(mean=[0.485, 0.485, 0.485], std=[0.229, 0.229, 0.229])\n",
        "])"
      ]
    },
    {
      "cell_type": "markdown",
      "metadata": {
        "id": "Yvy2GjBE4yzT"
      },
      "source": [
        "### Create a Custom Dataset Class"
      ]
    },
    {
      "cell_type": "code",
      "execution_count": null,
      "metadata": {
        "id": "8sliqaQQ4qmU"
      },
      "outputs": [],
      "source": [
        "class AugmentedDataset(Dataset):\n",
        "    def __init__(self, images, labels, transform=None):\n",
        "        self.images = images\n",
        "        self.labels = labels\n",
        "        self.transform = transform\n",
        "\n",
        "    def __len__(self):\n",
        "        return len(self.images)\n",
        "\n",
        "    def __getitem__(self, idx):\n",
        "        image = self.images[idx]\n",
        "        label = self.labels[idx]\n",
        "\n",
        "        if self.transform:\n",
        "            image = self.transform(image)\n",
        "\n",
        "        return image, label\n"
      ]
    },
    {
      "cell_type": "markdown",
      "metadata": {
        "id": "Kd4ZK96i8b4j"
      },
      "source": [
        "### Creation Dataset"
      ]
    },
    {
      "cell_type": "code",
      "execution_count": null,
      "metadata": {
        "id": "eukJSB4joOHN"
      },
      "outputs": [],
      "source": [
        "# Training Dataset with Augmentation\n",
        "dataset_train = AugmentedDataset(\n",
        "    X_train_tensor,\n",
        "    Y_train_tensor,\n",
        "    transform=data_augmentation_resNet50\n",
        ")\n",
        "\n",
        "# Validation Dataset with Preprocessing Only\n",
        "dataset_val = AugmentedDataset(\n",
        "    X_val_tensor,\n",
        "    Y_val_tensor,\n",
        "    transform=transforms.Compose([\n",
        "    transforms.Resize((299, 299)),\n",
        "    transforms.Normalize(mean=[0.485, 0.485, 0.485],\n",
        "                        std=[0.229, 0.229, 0.229])])\n",
        ")\n",
        "\n",
        "# Test Dataset without Augmentations\n",
        "dataset_test = TensorDataset(X_test_tensor, Y_test_tensor)"
      ]
    },
    {
      "cell_type": "markdown",
      "metadata": {
        "id": "PiKRiZI78UQS"
      },
      "source": [
        "### DataLoader Creation"
      ]
    },
    {
      "cell_type": "code",
      "execution_count": null,
      "metadata": {
        "id": "FM7uv-Afpz5n"
      },
      "outputs": [],
      "source": [
        "batch_size = 16\n",
        "dataloader_train = DataLoader(dataset_train, batch_size=batch_size, shuffle=True)\n",
        "dataloader_val = DataLoader(dataset_val, batch_size=batch_size, shuffle=False)\n",
        "dataloader_test = DataLoader(dataset_test, batch_size=batch_size, shuffle=False)"
      ]
    },
    {
      "cell_type": "code",
      "execution_count": null,
      "metadata": {
        "colab": {
          "base_uri": "https://localhost:8080/",
          "height": 231
        },
        "id": "uKWAxD6UuC6Y",
        "outputId": "e48d936d-3219-401c-a92b-c2323942e083"
      },
      "outputs": [
        {
          "data": {
            "image/png": "[encoded data removed]",
            "text/plain": [
              "<Figure size 1000x1000 with 1 Axes>"
            ]
          },
          "metadata": {},
          "output_type": "display_data"
        }
      ],
      "source": [
        "for images, labels in dataloader_train:\n",
        "    # Unnormalize the images (if normalization was applied)\n",
        "    mean = torch.tensor([0.485, 0.485, 0.485]).view(1, 3, 1, 1)\n",
        "    std = torch.tensor([0.229, 0.229, 0.229]).view(1, 3, 1, 1)\n",
        "    images = images * std + mean  # Reverse normalization\n",
        "\n",
        "    # Create a grid of images\n",
        "    grid = torchvision.utils.make_grid(images[:9])  # First 9 images\n",
        "\n",
        "    # Plot the images\n",
        "    plt.figure(figsize=(10, 10))\n",
        "    plt.imshow(grid.permute(1, 2, 0))  # Transpose dimensions (C, H, W) -> (H, W, C)\n",
        "    plt.axis('off')\n",
        "    plt.show()\n",
        "    break  # Display one batch only\n"
      ]
    },
    {
      "cell_type": "markdown",
      "metadata": {
        "id": "xxMrM0CVycRK"
      },
      "source": [
        "### Load Pretrained model\n",
        "\n"
      ]
    },
    {
      "cell_type": "code",
      "execution_count": null,
      "metadata": {
        "id": "ow4WXpykFtwg"
      },
      "outputs": [],
      "source": [
        "class ResNet50Classifier(nn.Module):\n",
        "    def __init__(self, num_classes=3):\n",
        "        super(ResNet50Classifier, self).__init__()\n",
        "        self.base_model = models.resnet50(pretrained=True)\n",
        "\n",
        "        # Freeze all layers except the final block\n",
        "        for name, param in self.base_model.named_parameters():\n",
        "            if \"layer4\" in name:  # Unfreeze only the final residual block\n",
        "                param.requires_grad = True\n",
        "            else:\n",
        "                param.requires_grad = False\n",
        "\n",
        "        # Replace the fully connected layer with a custom classifier\n",
        "        num_features = self.base_model.fc.in_features\n",
        "        self.base_model.fc = nn.Sequential(\n",
        "            nn.BatchNorm1d(num_features),\n",
        "            nn.Dropout(0.5),\n",
        "            nn.Linear(num_features, 512),  # Fully connected layer\n",
        "            nn.ReLU(),                     # Activation\n",
        "            nn.BatchNorm1d(512),           # Batch normalization\n",
        "            nn.Dropout(0.5),               # Dropout for regularization\n",
        "            nn.Linear(512, num_classes)    # Final output layer\n",
        "        )\n",
        "\n",
        "    def forward(self, x):\n",
        "        \"\"\"\n",
        "        Forward pass for the model.\n",
        "        :param x: Input tensor.\n",
        "        :return: Output logits.\n",
        "        \"\"\"\n",
        "        return self.base_model(x)\n"
      ]
    },
    {
      "cell_type": "markdown",
      "metadata": {
        "id": "UpMQWFYWJ6Jd"
      },
      "source": [
        "### Replace the final fully connected layer"
      ]
    },
    {
      "cell_type": "code",
      "execution_count": null,
      "metadata": {
        "colab": {
          "base_uri": "https://localhost:8080/"
        },
        "id": "qlsNoYSIG9dN",
        "outputId": "4e1a68f4-7637-489a-d744-945fb8d2a5d7"
      },
      "outputs": [
        {
          "name": "stderr",
          "output_type": "stream",
          "text": [
            "Downloading: \"https://download.pytorch.org/models/resnet50-0676ba61.pth\" to /root/.cache/torch/hub/checkpoints/resnet50-0676ba61.pth\n",
            "100%|██████████| 97.8M/97.8M [00:00<00:00, 139MB/s]\n"
          ]
        }
      ],
      "source": [
        "num_classes = 3\n",
        "restNet50_model = ResNet50Classifier(num_classes=num_classes)\n",
        "\n",
        "# Move the model to GPU if available\n",
        "device = torch.device(\"cuda\" if torch.cuda.is_available() else \"cpu\")\n",
        "restNet50_model= restNet50_model.to(device)\n"
      ]
    },
    {
      "cell_type": "markdown",
      "metadata": {
        "id": "XPMn0bb7PmA7"
      },
      "source": [
        "### Setting up Loss, optimizer and scheduler"
      ]
    },
    {
      "cell_type": "code",
      "execution_count": null,
      "metadata": {
        "id": "y6f24Y7-ygX-"
      },
      "outputs": [],
      "source": [
        "# Higher initial learning rate\n",
        "optimizer = optim.Adam([\n",
        "        {'params': restNet50_model.base_model.fc.parameters(), 'lr': 1e-3},\n",
        "        {'params': (p for n, p in restNet50_model.base_model.named_parameters() if 'fc' not in n and p.requires_grad), 'lr': 1e-4}\n",
        "    ])"
      ]
    },
    {
      "cell_type": "code",
      "execution_count": null,
      "metadata": {
        "id": "iUP3juixzgyx"
      },
      "outputs": [],
      "source": [
        "criterion = nn.CrossEntropyLoss()\n",
        "scheduler = ReduceLROnPlateau(optimizer, mode='min', factor=0.5, patience=2, verbose=True)"
      ]
    },
    {
      "cell_type": "markdown",
      "metadata": {
        "id": "YoBAngYZPzCo"
      },
      "source": [
        "### Train Phase"
      ]
    },
    {
      "cell_type": "markdown",
      "metadata": {
        "id": "Z6FUx0CvUMub"
      },
      "source": [
        "### Training Model"
      ]
    },
    {
      "cell_type": "code",
      "execution_count": null,
      "metadata": {
        "id": "9mo1KGghUME9"
      },
      "outputs": [],
      "source": [
        "def train_model(model, train_loader, val_loader, criterion, optimizer, scheduler, num_epochs=10, device='cuda'):\n",
        "    \"\"\"\n",
        "    Train and validate a model.\n",
        "\n",
        "    :param model: PyTorch model\n",
        "    :param dataloader_train: DataLoader for training data\n",
        "    :param dataloader_val: DataLoader for validation data\n",
        "    :param criterion: Loss function\n",
        "    :param optimizer: Optimizer\n",
        "    :param scheduler: Learning rate scheduler\n",
        "    :param num_epochs: Number of training epochs\n",
        "    :param device: Device to train on ('cuda' or 'cpu')\n",
        "    :return: Training and validation history\n",
        "    \"\"\"\n",
        "    model = model.to(device)\n",
        "    best_val_acc = 0.0\n",
        "    history = {'train_loss': [], 'train_acc': [], 'val_loss': [], 'val_acc': []}\n",
        "\n",
        "    for epoch in range(num_epochs):\n",
        "        # Training phase\n",
        "        model.train()\n",
        "        running_loss = 0.0\n",
        "        correct = 0\n",
        "        total = 0\n",
        "\n",
        "        for inputs, labels in train_loader:\n",
        "            inputs, labels = inputs.to(device), labels.to(device)\n",
        "\n",
        "            optimizer.zero_grad()\n",
        "\n",
        "            # Forward pass\n",
        "            outputs = model(inputs)\n",
        "            if isinstance(outputs, tuple):  # Handle models with auxiliary outputs (e.g., InceptionV3)\n",
        "                main_output, aux_output = outputs\n",
        "                loss1 = criterion(main_output, labels)\n",
        "                loss2 = criterion(aux_output, labels)\n",
        "                loss = loss1 + 0.4 * loss2  # Weighted loss\n",
        "            else:  # Handle models with a single output (e.g., ResNet50)\n",
        "                loss = criterion(outputs, labels)\n",
        "\n",
        "            # Backward pass and optimization\n",
        "            loss.backward()\n",
        "            torch.nn.utils.clip_grad_norm_(model.parameters(), max_norm=1.0)  # Gradient clipping\n",
        "            optimizer.step()\n",
        "\n",
        "            running_loss += loss.item()\n",
        "            _, predicted = outputs[0].max(1) if isinstance(outputs, tuple) else outputs.max(1)\n",
        "            total += labels.size(0)\n",
        "            correct += predicted.eq(labels).sum().item()\n",
        "\n",
        "        epoch_loss = running_loss / len(train_loader)\n",
        "        epoch_acc = 100. * correct / total\n",
        "        history['train_loss'].append(epoch_loss)\n",
        "        history['train_acc'].append(epoch_acc)\n",
        "\n",
        "        # Validation phase\n",
        "        model.eval()\n",
        "        val_loss = 0.0\n",
        "        correct = 0\n",
        "        total = 0\n",
        "\n",
        "        with torch.no_grad():\n",
        "            for inputs, labels in val_loader:\n",
        "                inputs, labels = inputs.to(device), labels.to(device)\n",
        "                outputs = model(inputs)\n",
        "\n",
        "                if isinstance(outputs, tuple):  # Handle auxiliary outputs during validation\n",
        "                    outputs = outputs[0]\n",
        "                loss = criterion(outputs, labels)\n",
        "\n",
        "                val_loss += loss.item()\n",
        "                _, predicted = outputs.max(1)\n",
        "                total += labels.size(0)\n",
        "                correct += predicted.eq(labels).sum().item()\n",
        "\n",
        "        epoch_val_loss = val_loss / len(val_loader)\n",
        "        epoch_val_acc = 100. * correct / total\n",
        "        history['val_loss'].append(epoch_val_loss)\n",
        "        history['val_acc'].append(epoch_val_acc)\n",
        "\n",
        "        # Learning rate scheduling\n",
        "        scheduler.step(epoch_val_loss)\n",
        "\n",
        "        print(f'Epoch {epoch+1}/{num_epochs}:')\n",
        "        print(f'Train Loss: {epoch_loss:.4f}, Train Acc: {epoch_acc:.2f}%')\n",
        "        print(f'Val Loss: {epoch_val_loss:.4f}, Val Acc: {epoch_val_acc:.2f}%')\n",
        "        print(f'Learning Rate: {optimizer.param_groups[0][\"lr\"]:.6f}')\n",
        "\n",
        "        # Save the best model\n",
        "        if epoch_val_acc > best_val_acc:\n",
        "            best_val_acc = epoch_val_acc\n",
        "            torch.save(model.state_dict(), 'best_model.pth')\n",
        "\n",
        "    return history"
      ]
    },
    {
      "cell_type": "code",
      "execution_count": null,
      "metadata": {
        "colab": {
          "background_save": true,
          "base_uri": "https://localhost:8080/"
        },
        "id": "z1n8Y1E5U7xo",
        "outputId": "02e75c8b-0da8-4338-bc81-30300d92bbad"
      },
      "outputs": [
        {
          "name": "stdout",
          "output_type": "stream",
          "text": [
            "Epoch 1/6:\n",
            "Train Loss: 1.1479, Train Acc: 30.92%\n",
            "Val Loss: 1.1213, Val Acc: 29.00%\n",
            "Validation loss decreased. Saving model to best_model.pth\n",
            "Epoch 2/6:\n",
            "Train Loss: 1.1524, Train Acc: 32.92%\n",
            "Val Loss: 1.1362, Val Acc: 19.25%\n",
            "EarlyStopping counter: 1 out of 3\n",
            "Epoch 3/6:\n",
            "Train Loss: 1.1498, Train Acc: 29.58%\n",
            "Val Loss: 1.1356, Val Acc: 20.17%\n",
            "EarlyStopping counter: 2 out of 3\n",
            "Epoch 4/6:\n",
            "Train Loss: 1.1521, Train Acc: 28.92%\n",
            "Val Loss: 1.1349, Val Acc: 20.17%\n",
            "EarlyStopping counter: 3 out of 3\n",
            "Early stopping triggered. Stopping training.\n"
          ]
        },
        {
          "ename": "FileNotFoundError",
          "evalue": "[Errno 2] No such file or directory: 'best_model1.pth'",
          "output_type": "error",
          "traceback": [
            "\u001b[0;31m---------------------------------------------------------------------------\u001b[0m",
            "\u001b[0;31mFileNotFoundError\u001b[0m                         Traceback (most recent call last)",
            "\u001b[0;32m<ipython-input-57-2402137fb0ae>\u001b[0m in \u001b[0;36m<cell line: 2>\u001b[0;34m()\u001b[0m\n\u001b[1;32m      1\u001b[0m \u001b[0;31m# Train for more epochs\u001b[0m\u001b[0;34m\u001b[0m\u001b[0;34m\u001b[0m\u001b[0m\n\u001b[0;32m----> 2\u001b[0;31m history = train_model(restNet50_model, dataloader_train, dataloader_train, criterion, optimizer, scheduler,\n\u001b[0m\u001b[1;32m      3\u001b[0m                         num_epochs=6, device=device)\n",
            "\u001b[0;32m<ipython-input-56-89e26fc1b602>\u001b[0m in \u001b[0;36mtrain_model\u001b[0;34m(model, train_loader, val_loader, criterion, optimizer, scheduler, num_epochs, device, patience)\u001b[0m\n\u001b[1;32m     86\u001b[0m \u001b[0;34m\u001b[0m\u001b[0m\n\u001b[1;32m     87\u001b[0m     \u001b[0;31m# Load the best model before returning\u001b[0m\u001b[0;34m\u001b[0m\u001b[0;34m\u001b[0m\u001b[0m\n\u001b[0;32m---> 88\u001b[0;31m     \u001b[0mmodel\u001b[0m\u001b[0;34m.\u001b[0m\u001b[0mload_state_dict\u001b[0m\u001b[0;34m(\u001b[0m\u001b[0mtorch\u001b[0m\u001b[0;34m.\u001b[0m\u001b[0mload\u001b[0m\u001b[0;34m(\u001b[0m\u001b[0;34m'best_model1.pth'\u001b[0m\u001b[0;34m)\u001b[0m\u001b[0;34m)\u001b[0m\u001b[0;34m\u001b[0m\u001b[0;34m\u001b[0m\u001b[0m\n\u001b[0m\u001b[1;32m     89\u001b[0m     \u001b[0;32mreturn\u001b[0m \u001b[0mhistory\u001b[0m\u001b[0;34m\u001b[0m\u001b[0;34m\u001b[0m\u001b[0m\n",
            "\u001b[0;32m/usr/local/lib/python3.10/dist-packages/torch/serialization.py\u001b[0m in \u001b[0;36mload\u001b[0;34m(f, map_location, pickle_module, weights_only, mmap, **pickle_load_args)\u001b[0m\n\u001b[1;32m   1317\u001b[0m         \u001b[0mpickle_load_args\u001b[0m\u001b[0;34m[\u001b[0m\u001b[0;34m\"encoding\"\u001b[0m\u001b[0;34m]\u001b[0m \u001b[0;34m=\u001b[0m \u001b[0;34m\"utf-8\"\u001b[0m\u001b[0;34m\u001b[0m\u001b[0;34m\u001b[0m\u001b[0m\n\u001b[1;32m   1318\u001b[0m \u001b[0;34m\u001b[0m\u001b[0m\n\u001b[0;32m-> 1319\u001b[0;31m     \u001b[0;32mwith\u001b[0m \u001b[0m_open_file_like\u001b[0m\u001b[0;34m(\u001b[0m\u001b[0mf\u001b[0m\u001b[0;34m,\u001b[0m \u001b[0;34m\"rb\"\u001b[0m\u001b[0;34m)\u001b[0m \u001b[0;32mas\u001b[0m \u001b[0mopened_file\u001b[0m\u001b[0;34m:\u001b[0m\u001b[0;34m\u001b[0m\u001b[0;34m\u001b[0m\u001b[0m\n\u001b[0m\u001b[1;32m   1320\u001b[0m         \u001b[0;32mif\u001b[0m \u001b[0m_is_zipfile\u001b[0m\u001b[0;34m(\u001b[0m\u001b[0mopened_file\u001b[0m\u001b[0;34m)\u001b[0m\u001b[0;34m:\u001b[0m\u001b[0;34m\u001b[0m\u001b[0;34m\u001b[0m\u001b[0m\n\u001b[1;32m   1321\u001b[0m             \u001b[0;31m# The zipfile reader is going to advance the current file position.\u001b[0m\u001b[0;34m\u001b[0m\u001b[0;34m\u001b[0m\u001b[0m\n",
            "\u001b[0;32m/usr/local/lib/python3.10/dist-packages/torch/serialization.py\u001b[0m in \u001b[0;36m_open_file_like\u001b[0;34m(name_or_buffer, mode)\u001b[0m\n\u001b[1;32m    657\u001b[0m \u001b[0;32mdef\u001b[0m \u001b[0m_open_file_like\u001b[0m\u001b[0;34m(\u001b[0m\u001b[0mname_or_buffer\u001b[0m\u001b[0;34m,\u001b[0m \u001b[0mmode\u001b[0m\u001b[0;34m)\u001b[0m\u001b[0;34m:\u001b[0m\u001b[0;34m\u001b[0m\u001b[0;34m\u001b[0m\u001b[0m\n\u001b[1;32m    658\u001b[0m     \u001b[0;32mif\u001b[0m \u001b[0m_is_path\u001b[0m\u001b[0;34m(\u001b[0m\u001b[0mname_or_buffer\u001b[0m\u001b[0;34m)\u001b[0m\u001b[0;34m:\u001b[0m\u001b[0;34m\u001b[0m\u001b[0;34m\u001b[0m\u001b[0m\n\u001b[0;32m--> 659\u001b[0;31m         \u001b[0;32mreturn\u001b[0m \u001b[0m_open_file\u001b[0m\u001b[0;34m(\u001b[0m\u001b[0mname_or_buffer\u001b[0m\u001b[0;34m,\u001b[0m \u001b[0mmode\u001b[0m\u001b[0;34m)\u001b[0m\u001b[0;34m\u001b[0m\u001b[0;34m\u001b[0m\u001b[0m\n\u001b[0m\u001b[1;32m    660\u001b[0m     \u001b[0;32melse\u001b[0m\u001b[0;34m:\u001b[0m\u001b[0;34m\u001b[0m\u001b[0;34m\u001b[0m\u001b[0m\n\u001b[1;32m    661\u001b[0m         \u001b[0;32mif\u001b[0m \u001b[0;34m\"w\"\u001b[0m \u001b[0;32min\u001b[0m \u001b[0mmode\u001b[0m\u001b[0;34m:\u001b[0m\u001b[0;34m\u001b[0m\u001b[0;34m\u001b[0m\u001b[0m\n",
            "\u001b[0;32m/usr/local/lib/python3.10/dist-packages/torch/serialization.py\u001b[0m in \u001b[0;36m__init__\u001b[0;34m(self, name, mode)\u001b[0m\n\u001b[1;32m    638\u001b[0m \u001b[0;32mclass\u001b[0m \u001b[0m_open_file\u001b[0m\u001b[0;34m(\u001b[0m\u001b[0m_opener\u001b[0m\u001b[0;34m)\u001b[0m\u001b[0;34m:\u001b[0m\u001b[0;34m\u001b[0m\u001b[0;34m\u001b[0m\u001b[0m\n\u001b[1;32m    639\u001b[0m     \u001b[0;32mdef\u001b[0m \u001b[0m__init__\u001b[0m\u001b[0;34m(\u001b[0m\u001b[0mself\u001b[0m\u001b[0;34m,\u001b[0m \u001b[0mname\u001b[0m\u001b[0;34m,\u001b[0m \u001b[0mmode\u001b[0m\u001b[0;34m)\u001b[0m\u001b[0;34m:\u001b[0m\u001b[0;34m\u001b[0m\u001b[0;34m\u001b[0m\u001b[0m\n\u001b[0;32m--> 640\u001b[0;31m         \u001b[0msuper\u001b[0m\u001b[0;34m(\u001b[0m\u001b[0;34m)\u001b[0m\u001b[0;34m.\u001b[0m\u001b[0m__init__\u001b[0m\u001b[0;34m(\u001b[0m\u001b[0mopen\u001b[0m\u001b[0;34m(\u001b[0m\u001b[0mname\u001b[0m\u001b[0;34m,\u001b[0m \u001b[0mmode\u001b[0m\u001b[0;34m)\u001b[0m\u001b[0;34m)\u001b[0m\u001b[0;34m\u001b[0m\u001b[0;34m\u001b[0m\u001b[0m\n\u001b[0m\u001b[1;32m    641\u001b[0m \u001b[0;34m\u001b[0m\u001b[0m\n\u001b[1;32m    642\u001b[0m     \u001b[0;32mdef\u001b[0m \u001b[0m__exit__\u001b[0m\u001b[0;34m(\u001b[0m\u001b[0mself\u001b[0m\u001b[0;34m,\u001b[0m \u001b[0;34m*\u001b[0m\u001b[0margs\u001b[0m\u001b[0;34m)\u001b[0m\u001b[0;34m:\u001b[0m\u001b[0;34m\u001b[0m\u001b[0;34m\u001b[0m\u001b[0m\n",
            "\u001b[0;31mFileNotFoundError\u001b[0m: [Errno 2] No such file or directory: 'best_model1.pth'"
          ]
        }
      ],
      "source": [
        " # Train for more epochs\n",
        "history = train_model(restNet50_model, dataloader_train, dataloader_train, criterion, optimizer, scheduler,\n",
        "                         num_epochs=10, device=device)"
      ]
    }
  ],
  "metadata": {
    "colab": {
      "provenance": []
    },
    "kernelspec": {
      "display_name": "Python 3",
      "name": "python3"
    },
    "language_info": {
      "name": "python"
    }
  },
  "nbformat": 4,
  "nbformat_minor": 0
}